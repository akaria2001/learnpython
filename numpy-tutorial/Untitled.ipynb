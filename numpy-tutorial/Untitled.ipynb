{
 "cells": [
  {
   "cell_type": "code",
   "execution_count": 1,
   "id": "a96f292f",
   "metadata": {},
   "outputs": [
    {
     "data": {
      "text/plain": [
       "array([ 91.25,  54.25,  83.25, 100.  ,  70.25, 100.  ,  93.25,  31.25])"
      ]
     },
     "execution_count": 1,
     "metadata": {},
     "output_type": "execute_result"
    }
   ],
   "source": [
    ">>> import numpy as np\n",
    ">>> CURVE_CENTER = 80\n",
    ">>> grades = np.array([72, 35, 64, 88, 51, 90, 74, 12])\n",
    ">>> def curve(grades):\n",
    "...     average = grades.mean()\n",
    "...     change = CURVE_CENTER - average\n",
    "...     new_grades = grades + change\n",
    "...     return np.clip(new_grades, grades, 100)\n",
    "...\n",
    ">>> curve(grades)"
   ]
  },
  {
   "cell_type": "code",
   "execution_count": null,
   "id": "4023ea75",
   "metadata": {},
   "outputs": [],
   "source": []
  }
 ],
 "metadata": {
  "kernelspec": {
   "display_name": "Python 3 (ipykernel)",
   "language": "python",
   "name": "python3"
  },
  "language_info": {
   "codemirror_mode": {
    "name": "ipython",
    "version": 3
   },
   "file_extension": ".py",
   "mimetype": "text/x-python",
   "name": "python",
   "nbconvert_exporter": "python",
   "pygments_lexer": "ipython3",
   "version": "3.9.2"
  }
 },
 "nbformat": 4,
 "nbformat_minor": 5
}
